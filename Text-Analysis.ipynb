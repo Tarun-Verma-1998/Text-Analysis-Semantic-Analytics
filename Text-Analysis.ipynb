{
 "cells": [
  {
   "cell_type": "markdown",
   "id": "b1ed9204",
   "metadata": {},
   "source": [
    "#### **ContentFiles** : *Folder containg all the text files.*\n",
    "#### **MasterDictionary** : *Folder containg text files for positive and negative words.*\n",
    "#### **StopWords** : *Folder containg text files for all stop words.*\n",
    "#### **Input.csv** : *CSV File having all the urls.*\n",
    "#### **Output Data Structure.csv** : *CSV File having the basic structure of output.*\n",
    "#### **Output_Data.csv** : *CSV File having all the calculated parameters as final output.*"
   ]
  },
  {
   "cell_type": "markdown",
   "id": "668b6f10",
   "metadata": {},
   "source": [
    "#### **Importing all the Important Libraries**"
   ]
  },
  {
   "cell_type": "code",
   "execution_count": 33,
   "id": "e48acd3a",
   "metadata": {},
   "outputs": [
    {
     "name": "stderr",
     "output_type": "stream",
     "text": [
      "[nltk_data] Downloading package punkt to\n",
      "[nltk_data]     C:\\Users\\SUSHANT\\AppData\\Roaming\\nltk_data...\n",
      "[nltk_data]   Package punkt is already up-to-date!\n",
      "[nltk_data] Downloading package stopwords to\n",
      "[nltk_data]     C:\\Users\\SUSHANT\\AppData\\Roaming\\nltk_data...\n",
      "[nltk_data]   Package stopwords is already up-to-date!\n"
     ]
    }
   ],
   "source": [
    "import requests\n",
    "from bs4 import BeautifulSoup\n",
    "import pandas as pd\n",
    "import os\n",
    "import nltk\n",
    "from nltk.tokenize import word_tokenize\n",
    "nltk.download('punkt')\n",
    "nltk.download('stopwords')\n",
    "from nltk.corpus import stopwords\n",
    "import re"
   ]
  },
  {
   "cell_type": "markdown",
   "id": "41c4b480",
   "metadata": {},
   "source": [
    "#### **Loading the Input File file containing URLs of articles into a pandas dataframe**"
   ]
  },
  {
   "cell_type": "code",
   "execution_count": 34,
   "id": "e4376f24",
   "metadata": {},
   "outputs": [],
   "source": [
    "df = pd.read_excel('Input.xlsx')"
   ]
  },
  {
   "cell_type": "code",
   "execution_count": 35,
   "id": "1be872ff",
   "metadata": {
    "scrolled": true
   },
   "outputs": [
    {
     "data": {
      "text/html": [
       "<div>\n",
       "<style scoped>\n",
       "    .dataframe tbody tr th:only-of-type {\n",
       "        vertical-align: middle;\n",
       "    }\n",
       "\n",
       "    .dataframe tbody tr th {\n",
       "        vertical-align: top;\n",
       "    }\n",
       "\n",
       "    .dataframe thead th {\n",
       "        text-align: right;\n",
       "    }\n",
       "</style>\n",
       "<table border=\"1\" class=\"dataframe\">\n",
       "  <thead>\n",
       "    <tr style=\"text-align: right;\">\n",
       "      <th></th>\n",
       "      <th>URL_ID</th>\n",
       "      <th>URL</th>\n",
       "    </tr>\n",
       "  </thead>\n",
       "  <tbody>\n",
       "    <tr>\n",
       "      <th>0</th>\n",
       "      <td>37</td>\n",
       "      <td>https://insights.blackcoffer.com/ai-in-healthc...</td>\n",
       "    </tr>\n",
       "    <tr>\n",
       "      <th>1</th>\n",
       "      <td>38</td>\n",
       "      <td>https://insights.blackcoffer.com/what-if-the-c...</td>\n",
       "    </tr>\n",
       "    <tr>\n",
       "      <th>2</th>\n",
       "      <td>39</td>\n",
       "      <td>https://insights.blackcoffer.com/what-jobs-wil...</td>\n",
       "    </tr>\n",
       "    <tr>\n",
       "      <th>3</th>\n",
       "      <td>40</td>\n",
       "      <td>https://insights.blackcoffer.com/will-machine-...</td>\n",
       "    </tr>\n",
       "    <tr>\n",
       "      <th>4</th>\n",
       "      <td>41</td>\n",
       "      <td>https://insights.blackcoffer.com/will-ai-repla...</td>\n",
       "    </tr>\n",
       "  </tbody>\n",
       "</table>\n",
       "</div>"
      ],
      "text/plain": [
       "   URL_ID                                                URL\n",
       "0      37  https://insights.blackcoffer.com/ai-in-healthc...\n",
       "1      38  https://insights.blackcoffer.com/what-if-the-c...\n",
       "2      39  https://insights.blackcoffer.com/what-jobs-wil...\n",
       "3      40  https://insights.blackcoffer.com/will-machine-...\n",
       "4      41  https://insights.blackcoffer.com/will-ai-repla..."
      ]
     },
     "execution_count": 35,
     "metadata": {},
     "output_type": "execute_result"
    }
   ],
   "source": [
    "df.head()"
   ]
  },
  {
   "cell_type": "code",
   "execution_count": 36,
   "id": "4c618708",
   "metadata": {},
   "outputs": [
    {
     "data": {
      "text/plain": [
       "(114, 2)"
      ]
     },
     "execution_count": 36,
     "metadata": {},
     "output_type": "execute_result"
    }
   ],
   "source": [
    "df.shape"
   ]
  },
  {
   "cell_type": "markdown",
   "id": "00b5fb5f",
   "metadata": {},
   "source": [
    "#### Iterating through each row in the df."
   ]
  },
  {
   "cell_type": "code",
   "execution_count": 37,
   "id": "14f32b7d",
   "metadata": {},
   "outputs": [
    {
     "name": "stdout",
     "output_type": "stream",
     "text": [
      "can't get title of 44\n",
      "can't get title of 57\n",
      "can't get title of 144\n"
     ]
    }
   ],
   "source": [
    "\n",
    "for index, row in df.iterrows():\n",
    "  url = row['URL']\n",
    "  url_id = row['URL_ID']\n",
    "\n",
    "  # making a request to url\n",
    "  try:\n",
    "    response = requests.get(url)\n",
    "  except:\n",
    "    print(\"can't get response of {}\".format(url_id))\n",
    "\n",
    "  #creating a beautifulsoup object\n",
    "  try:\n",
    "    soup = BeautifulSoup(response.content, 'html.parser')\n",
    "  except:\n",
    "    print(\"can't get page of {}\".format(url_id))\n",
    "  #for getting the title\n",
    "  try:\n",
    "    title = soup.find('h1').get_text()\n",
    "  except:\n",
    "    print(\"can't get title of {}\".format(url_id))\n",
    "    continue\n",
    "  #for getting the text\n",
    "  article = \"\"\n",
    "  try:\n",
    "    for p in soup.find_all('p'):\n",
    "      article += p.get_text()\n",
    "  except:\n",
    "    print(\"can't get text of {}\".format(url_id))\n",
    "\n",
    "  #writing title and article text to the file\n",
    "  file_name = (r'ContentFiles/') + str(url_id) + '.txt'\n",
    "  with open(file_name, 'w' , encoding=\"utf-8\") as file:\n",
    "    file.write(title + '\\n' + article)"
   ]
  },
  {
   "cell_type": "markdown",
   "id": "17050fb2",
   "metadata": {},
   "source": [
    "#### Here, It can be seen that URLs with the url_id 44, 57 and 144 are not accessible as these pages do not exist anymore. "
   ]
  },
  {
   "cell_type": "code",
   "execution_count": 38,
   "id": "5b03710b",
   "metadata": {},
   "outputs": [
    {
     "name": "stdout",
     "output_type": "stream",
     "text": [
      "12919\n"
     ]
    }
   ],
   "source": [
    "# loading all the stopwords from the provided stopwords folder and storing in the set variable\n",
    "stop_words = set()\n",
    "for files in os.listdir(r\"StopWords\"):\n",
    "  with open(os.path.join(r\"StopWords\",files),'r') as f:\n",
    "    stop_words.update(set(f.read().splitlines()))\n",
    "\n",
    "print(len(stop_words))"
   ]
  },
  {
   "cell_type": "markdown",
   "id": "8a4336d5",
   "metadata": {},
   "source": [
    "####  Sorting the files in ascending order so that the calculated parameters can be matched with the respective urls as per Output Data Structure File.\n"
   ]
  },
  {
   "cell_type": "code",
   "execution_count": 39,
   "id": "20585f91",
   "metadata": {},
   "outputs": [
    {
     "name": "stdout",
     "output_type": "stream",
     "text": [
      "['37.txt', '38.txt', '39.txt', '40.txt', '41.txt', '42.txt', '43.txt', '45.txt', '46.txt', '47.txt', '48.txt', '49.txt', '50.txt', '51.txt', '52.txt', '53.txt', '54.txt', '55.txt', '56.txt', '58.txt', '59.txt', '60.txt', '61.txt', '62.txt', '63.txt', '64.txt', '65.txt', '66.txt', '67.txt', '68.txt', '69.txt', '70.txt', '71.txt', '72.txt', '73.txt', '74.txt', '75.txt', '76.txt', '77.txt', '78.txt', '79.txt', '80.txt', '81.txt', '82.txt', '83.txt', '84.txt', '85.txt', '86.txt', '87.txt', '88.txt', '89.txt', '90.txt', '91.txt', '92.txt', '93.txt', '94.txt', '95.txt', '96.txt', '97.txt', '98.txt', '99.txt', '100.txt', '101.txt', '102.txt', '103.txt', '104.txt', '105.txt', '106.txt', '107.txt', '108.txt', '109.txt', '110.txt', '111.txt', '112.txt', '113.txt', '114.txt', '115.txt', '116.txt', '117.txt', '118.txt', '119.txt', '120.txt', '121.txt', '122.txt', '123.txt', '124.txt', '125.txt', '126.txt', '127.txt', '128.txt', '129.txt', '130.txt', '131.txt', '132.txt', '133.txt', '134.txt', '135.txt', '136.txt', '137.txt', '138.txt', '139.txt', '140.txt', '141.txt', '142.txt', '143.txt', '145.txt', '146.txt', '147.txt', '148.txt', '149.txt', '150.txt']\n"
     ]
    }
   ],
   "source": [
    "filenumber=[]\n",
    "for text_file in os.listdir(\"ContentFiles\"):\n",
    "    filenumber.append(text_file)\n",
    "    \n",
    "\n",
    "def myFunc(e):\n",
    "    return(int(e[0:-4]))\n",
    "\n",
    "filenumber.sort(key=myFunc)\n",
    "print(filenumber)"
   ]
  },
  {
   "cell_type": "markdown",
   "id": "ec4aa9ff",
   "metadata": {},
   "source": [
    "#### Loading all text files from the ContentFiles folder and storing in a list named docs."
   ]
  },
  {
   "cell_type": "code",
   "execution_count": 40,
   "id": "2064dce6",
   "metadata": {},
   "outputs": [],
   "source": [
    "docs = []\n",
    "\n",
    "for i in filenumber:\n",
    "    with open(os.path.join((\"ContentFiles\"),i),'r',encoding='utf-8') as f:\n",
    "        text = f.read()\n",
    "#tokenize the given text file\n",
    "        words = word_tokenize(text)\n",
    "# remove the stop words from the tokens\n",
    "        filtered_text = [word for word in words if word.lower() not in stop_words]\n",
    "# add each filtered tokens of each file into a list\n",
    "        docs.append(filtered_text)"
   ]
  },
  {
   "cell_type": "markdown",
   "id": "0e393075",
   "metadata": {},
   "source": [
    "#### Accessing the positive and negative words from the provided Master Dictionary and storing them in the set variables."
   ]
  },
  {
   "cell_type": "code",
   "execution_count": 41,
   "id": "1bc09d05",
   "metadata": {},
   "outputs": [
    {
     "name": "stdout",
     "output_type": "stream",
     "text": [
      "pos--> 2006\n",
      "neg--> 4783\n"
     ]
    }
   ],
   "source": [
    "pos=set()\n",
    "neg=set()\n",
    "\n",
    "for files in os.listdir(\"MasterDictionary\"):\n",
    "  if files =='positive-words.txt':\n",
    "    with open(os.path.join(\"MasterDictionary\",files),'r',encoding='ISO-8859-1') as f:\n",
    "      pos.update(f.read().splitlines())\n",
    "  else:\n",
    "    with open(os.path.join(\"MasterDictionary\",files),'r',encoding='ISO-8859-1') as f:\n",
    "      neg.update(f.read().splitlines())\n",
    "\n",
    "\n",
    "print(\"pos-->\",len(pos))\n",
    "print(\"neg-->\",len(neg))"
   ]
  },
  {
   "cell_type": "markdown",
   "id": "b6edd56a",
   "metadata": {},
   "source": [
    "#### Calculating *Positive Score, Negative Score, Polarity Score and Subjectivity Score* for each file respectively by counting their positive and negative words"
   ]
  },
  {
   "cell_type": "code",
   "execution_count": 42,
   "id": "70778dcd",
   "metadata": {},
   "outputs": [
    {
     "name": "stdout",
     "output_type": "stream",
     "text": [
      "done done\n"
     ]
    }
   ],
   "source": [
    "positive_words = []\n",
    "Negative_words =[]\n",
    "positive_score = []\n",
    "negative_score = []\n",
    "polarity_score = []\n",
    "subjectivity_score = []\n",
    "\n",
    "#iterate through the list of docs\n",
    "for i in range(len(docs)):\n",
    "  positive_words.append([word for word in docs[i] if word.lower() in pos])\n",
    "  Negative_words.append([word for word in docs[i] if word.lower() in neg])\n",
    "  positive_score.append(len(positive_words[i]))\n",
    "  negative_score.append(len(Negative_words[i]))\n",
    "  polarity_score.append((positive_score[i] - negative_score[i]) / ((positive_score[i] + negative_score[i]) + 0.000001))\n",
    "  subjectivity_score.append((positive_score[i] + negative_score[i]) / ((len(docs[i])) + 0.000001))\n",
    "\n",
    "print(\"done done\")"
   ]
  },
  {
   "cell_type": "code",
   "execution_count": 43,
   "id": "ccf47161",
   "metadata": {},
   "outputs": [
    {
     "name": "stdout",
     "output_type": "stream",
     "text": [
      "69\n",
      "31\n"
     ]
    }
   ],
   "source": [
    "print(len(positive_words[0]))\n",
    "print(len(Negative_words[0]))"
   ]
  },
  {
   "cell_type": "markdown",
   "id": "12355a12",
   "metadata": {},
   "source": [
    "#### Calculating other Parameters"
   ]
  },
  {
   "cell_type": "code",
   "execution_count": 44,
   "id": "23812959",
   "metadata": {},
   "outputs": [
    {
     "name": "stdout",
     "output_type": "stream",
     "text": [
      "done done lonmdon\n"
     ]
    }
   ],
   "source": [
    "# Average Sentence Length = the number of words / the number of sentences\n",
    "# Percentage of Complex words = the number of complex words / the number of words \n",
    "# Fog Index = 0.4 * (Average Sentence Length + Percentage of Complex words)\n",
    "\n",
    "avg_sentence_length = []\n",
    "Percentage_of_Complex_words  =  []\n",
    "Fog_Index = []\n",
    "complex_word_count =  []\n",
    "avg_syllable_word_count =[]\n",
    "\n",
    "stopwords = set(stopwords.words('english'))\n",
    "def measure(file):\n",
    "  with open(os.path.join(\"ContentFiles\", file),'r',encoding='ISO-8859-1') as f:\n",
    "    text = f.read()\n",
    "# removing punctuations \n",
    "    text = re.sub(r'[^\\w\\s.]','',text)\n",
    "# splitting the given file into sentences\n",
    "    sentences = text.split('.')\n",
    "# calculating total number of sentences in a file\n",
    "    num_sentences = len(sentences)\n",
    "# calculating total words in the file\n",
    "    words = [word  for word in text.split() if word.lower() not in stopwords ]\n",
    "    num_words = len(words)\n",
    " \n",
    "# complex words having syllable count is greater than 2\n",
    "# Complex words are words in the text that contain more than two syllables.\n",
    "    complex_words = []\n",
    "    for word in words:\n",
    "      vowels = 'aeiou'\n",
    "      syllable_count_word = sum( 1 for letter in word if letter.lower() in vowels)\n",
    "      if syllable_count_word > 2:\n",
    "        complex_words.append(word)\n",
    "\n",
    "# Syllable Count Per Word\n",
    "# Counting the number of Syllables in each word of the text by counting the vowels present in each word.\n",
    "#  Will also handle some exceptions like words ending with \"es\",\"ed\" by not counting them as a syllable.\n",
    "    syllable_count = 0\n",
    "    syllable_words =[]\n",
    "    for word in words:\n",
    "      if word.endswith('es'):\n",
    "        word = word[:-2]\n",
    "      elif word.endswith('ed'):\n",
    "        word = word[:-2]\n",
    "      vowels = 'aeiou'\n",
    "      syllable_count_word = sum( 1 for letter in word if letter.lower() in vowels)\n",
    "      if syllable_count_word >= 1:\n",
    "        syllable_words.append(word)\n",
    "        syllable_count += syllable_count_word\n",
    "\n",
    "\n",
    "    avg_sentence_len = num_words / num_sentences\n",
    "    avg_syllable_word_count = syllable_count / len(syllable_words)\n",
    "    Percent_Complex_words  =  len(complex_words) / num_words\n",
    "    Fog_Index = 0.4 * (avg_sentence_len + Percent_Complex_words)\n",
    "\n",
    "    return avg_sentence_len, Percent_Complex_words, Fog_Index, len(complex_words),avg_syllable_word_count\n",
    "\n",
    "print(\"done done lonmdon\")\n",
    "\n",
    "#------------------------------------------------------------------------------------------------------------\n",
    "\n",
    "# iterate through each file or doc\n",
    "for file in filenumber:\n",
    "  x,y,z,a,b = measure(file)          #calling measure function\n",
    "  avg_sentence_length.append(x)\n",
    "  Percentage_of_Complex_words.append(y)\n",
    "  Fog_Index.append(z)\n",
    "  complex_word_count.append(a)\n",
    "  avg_syllable_word_count.append(b)"
   ]
  },
  {
   "cell_type": "code",
   "execution_count": 45,
   "id": "affce8da",
   "metadata": {},
   "outputs": [],
   "source": [
    "# Average Word Length Sum of the total number of characters in each word/Total number of words\n",
    "# Calculating the total cleaned words present in the text by\n",
    "# (1)removing the stop words (using stopwords class of nltk package).\n",
    "# (2)removing any punctuations like ? ! , . from the word before counting.\n",
    "\n",
    "def cleaned_words(file):\n",
    "  with open(os.path.join(\"ContentFiles\",file), 'r',encoding='ISO-8859-1') as f:\n",
    "    text = f.read()\n",
    "    text = re.sub(r'[^\\w\\s]', '' , text)\n",
    "    words = [word  for word in text.split() if word.lower() not in stopwords]\n",
    "    length = sum(len(word) for word in words)\n",
    "    average_word_length = length / len(words)\n",
    "  return len(words),average_word_length\n",
    "\n",
    "word_count = []\n",
    "average_word_length = []\n",
    "for file in filenumber:\n",
    "  x, y = cleaned_words(file)         #calling cleaned_words function \n",
    "  word_count.append(x)\n",
    "  average_word_length.append(y)"
   ]
  },
  {
   "cell_type": "code",
   "execution_count": 46,
   "id": "41567707",
   "metadata": {},
   "outputs": [
    {
     "name": "stdout",
     "output_type": "stream",
     "text": [
      "size-> (114, 15)\n"
     ]
    }
   ],
   "source": [
    "# To calculate Personal Pronouns mentioned in the text, we use regex to find\n",
    "# the counts of the words - “I,” “we,” “my,” “ours,” and “us”. Special care is taken\n",
    "#  so that the country name US is not included in the list.\n",
    "def count_personal_pronouns(file):\n",
    "  with open(os.path.join(\"ContentFiles\",file), 'r',encoding='ISO-8859-1') as f:\n",
    "    text = f.read()\n",
    "    personal_pronouns = [\"I\", \"we\", \"my\", \"ours\", \"us\"]\n",
    "    count = 0\n",
    "    for pronoun in personal_pronouns:\n",
    "      count += len(re.findall(r\"\\b\" + pronoun + r\"\\b\", text)) # \\b is used to match word boundaries\n",
    "  return count\n",
    "\n",
    "pp_count = []\n",
    "for file in filenumber:\n",
    "  x = count_personal_pronouns(file)    #calling count_personal_pronouns function \n",
    "  pp_count.append(x)\n",
    "\n",
    "output_df = pd.read_excel('Output Data Structure.xlsx')\n",
    "\n",
    "print(\"size->\",output_df.shape)"
   ]
  },
  {
   "cell_type": "markdown",
   "id": "98dc61a8",
   "metadata": {},
   "source": [
    "#### As we have already seen Pages with url_ids 44, 57 and 144 do not exist anymore. Therefore, dropping that rows from the dataframe."
   ]
  },
  {
   "cell_type": "code",
   "execution_count": 47,
   "id": "5adb10fb",
   "metadata": {},
   "outputs": [
    {
     "name": "stdout",
     "output_type": "stream",
     "text": [
      "size-> (111, 15)\n"
     ]
    }
   ],
   "source": [
    "output_df.drop([44-37,57-37,144-37], axis = 0, inplace=True)\n",
    "\n",
    "print(\"size->\",output_df.shape)\n"
   ]
  },
  {
   "cell_type": "code",
   "execution_count": 48,
   "id": "22f2234b",
   "metadata": {},
   "outputs": [
    {
     "name": "stdout",
     "output_type": "stream",
     "text": [
      "(111, 15)\n"
     ]
    }
   ],
   "source": [
    "print(output_df.shape)"
   ]
  },
  {
   "cell_type": "markdown",
   "id": "b7fd322d",
   "metadata": {},
   "source": [
    "##### Here we can see that those urls throwing 404 errors are dropped successfully."
   ]
  },
  {
   "cell_type": "markdown",
   "id": "4aa674b0",
   "metadata": {},
   "source": [
    "#### Creating a single list of all the calculated parameters whose values to be saved in final output data file."
   ]
  },
  {
   "cell_type": "code",
   "execution_count": 49,
   "id": "c0473449",
   "metadata": {},
   "outputs": [],
   "source": [
    "variables = [positive_score,\n",
    "            negative_score,\n",
    "            polarity_score,\n",
    "            subjectivity_score,\n",
    "            avg_sentence_length,\n",
    "            Percentage_of_Complex_words,\n",
    "            Fog_Index,\n",
    "            avg_sentence_length,\n",
    "            complex_word_count,\n",
    "            word_count,\n",
    "            avg_syllable_word_count,\n",
    "            pp_count,\n",
    "            average_word_length]\n",
    "\n",
    "# writing the values to the dataframe\n",
    "for i, var in enumerate(variables):\n",
    "  output_df.iloc[:,i+2] = var\n",
    "\n",
    "#Finally saving the dataframe as Output_Data.csv.\n",
    "output_df.to_csv('Output_Data.csv')"
   ]
  }
 ],
 "metadata": {
  "kernelspec": {
   "display_name": "Python 3 (ipykernel)",
   "language": "python",
   "name": "python3"
  },
  "language_info": {
   "codemirror_mode": {
    "name": "ipython",
    "version": 3
   },
   "file_extension": ".py",
   "mimetype": "text/x-python",
   "name": "python",
   "nbconvert_exporter": "python",
   "pygments_lexer": "ipython3",
   "version": "3.9.13"
  }
 },
 "nbformat": 4,
 "nbformat_minor": 5
}
